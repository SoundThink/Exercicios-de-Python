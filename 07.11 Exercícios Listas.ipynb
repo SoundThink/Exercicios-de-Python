{
 "cells": [
  {
   "cell_type": "markdown",
   "metadata": {},
   "source": [
    "# Exercícios\n",
    "\n",
    "## 1. Mudança de Carga Tributária\n",
    "\n",
    "- Reformas e mudanças de cargas tributárias são bem comuns no Brasil.\n",
    "\n",
    "Digamos que você trabalhe em uma empresa de ecommerce\n",
    "\n",
    "No Brasil, o imposto sobre livros é zerado. De um ano para o outro, o governo criou um novo imposto que incide em 10% sobre o valor dos livros e agora você precisa alterar o registro dos preços dos livros da empresa para garantir que esse imposto vai ser repassado para o preço final do produto.\n",
    "\n",
    "Crie um código que recalcule o valor do livro da sua lista de produtos e ajuste na tabela.\n",
    "\n",
    "Além disso, calcule qual vai ser o impacto financeiro da criação desse imposto para a empresa (ou seja, quanto que o imposto vai aumentar de custo para a empresa)\n",
    "\n",
    "Obs: para facilitar, colocamos apenas 1 livro na lista, mas em breve vamos aprender um for que vai adaptar esse cenário para qualquer quantidade de livros na sua lista.\n",
    "\n",
    "Obs2: Seu código deve funcionar mesmo que não haja livros na lista de produtos da empresa"
   ]
  },
  {
   "cell_type": "code",
   "execution_count": 28,
   "metadata": {},
   "outputs": [
    {
     "name": "stdout",
     "output_type": "stream",
     "text": [
      "O novo preço do livro é: R$ 44.00\n",
      "O novo imposto a pagar é de 200,000.00\n"
     ]
    }
   ],
   "source": [
    "produtos = ['computador', 'livro', 'tablet', 'celular', 'tv', 'ar condicionado', 'alexa', 'máquina de café', 'kindle']\n",
    "\n",
    "#cada item da lista dos produtos corresponde a quantidade de vendas no mês e preço, nessa ordem\n",
    "produtos_ecommerce = [\n",
    "    [10000, 2500],\n",
    "    [50000, 40],\n",
    "    [7000, 1200],\n",
    "    [20000, 1500],\n",
    "    [5800, 1300],\n",
    "    [7200, 2500],\n",
    "    [200, 800],\n",
    "    [3300, 700],\n",
    "    [1900, 400]\n",
    "]\n",
    "\n",
    "if 'livro' in produtos:\n",
    "    \n",
    "    i_livro = produtos.index('livro')\n",
    "    fat_tot_ant = produtos_ecommerce[i_livro][0] * produtos_ecommerce[i_livro][1]\n",
    "    \n",
    "    # calc preço novo\n",
    "    imposto = 1.1    \n",
    "    produtos_ecommerce[i_livro][1] =  produtos_ecommerce[i_livro][1] * imposto\n",
    "    \n",
    "    print('O novo preço do livro é: R$ {:.2f}'.format(produtos_ecommerce[i_livro][1]))\n",
    "    \n",
    "    # Novo imposto a pagar\n",
    "    fat_tot_novo = produtos_ecommerce[i_livro][0] * produtos_ecommerce[i_livro][1]\n",
    "    \n",
    "    print('O novo imposto a pagar é de {:,.2f}'.format(fat_tot_novo - fat_tot_ant))\n",
    "    \n",
    "    \n",
    "    \n",
    "\n",
    "#produtos_ecommerce[1][1] = produtos_ecommerce[1][1] + produtos_ecommerce[1][1] * imposto\n",
    "#print(produtos_ecommerce[1])"
   ]
  }
 ],
 "metadata": {
  "kernelspec": {
   "display_name": "Python 3",
   "language": "python",
   "name": "python3"
  },
  "language_info": {
   "codemirror_mode": {
    "name": "ipython",
    "version": 3
   },
   "file_extension": ".py",
   "mimetype": "text/x-python",
   "name": "python",
   "nbconvert_exporter": "python",
   "pygments_lexer": "ipython3",
   "version": "3.8.8"
  }
 },
 "nbformat": 4,
 "nbformat_minor": 4
}
