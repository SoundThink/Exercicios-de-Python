{
 "cells": [
  {
   "cell_type": "markdown",
   "metadata": {},
   "source": [
    "# Exercícios"
   ]
  },
  {
   "cell_type": "markdown",
   "metadata": {},
   "source": [
    "## 1. Criando um mini sistema de controle de estoque\n",
    "\n",
    "- Crie um sistema para ser usado pelo time de controle de estoque de um centro de distribuição.\n",
    "- Imagine que ao fim de todo dia, o time conta quantas unidades de produto existem no estoque. Se tivermos um estoque abaixo do estoque permitido para aquela categoria do produto, o time deve ser avisado (print) para fazer um novo pedido daquele produto.\n",
    "- Cada categoria de produto tem um estoque mínimo diferente, segundo a regra abaixo:\n",
    "\n",
    "- alimentos -> Estoque mínimo: 50\n",
    "- bebidas -> Estoque mínimo: 75\n",
    "- limpeza -> Estoque mínimo: 30\n",
    "\n",
    "Para isso vamos criar um programa que pede 3 inputs do usuário: nome do produto, categoria e quantidade atual em estoque.\n",
    "\n",
    "Se o produto tiver abaixo do estoque mínimo da categoria dele, o programa deve printar a mensagem \"Solicitar {produto} à equipe de compras, temos apenas {unidades} em estoque\"\n",
    "\n",
    "Exemplo: Se o usuário preenche os inputs com: bebidas, dolly, 90, o programa não deve exibir nenhuma mensagem.<br>\n",
    "Agora, se o usuário preenche os inputs com: bebidas, guaraná, 60, o programa deve exibir a mensagem \"Solicitar guaraná à equipe de compras, temos apenas 60 unidades em estoque.\n",
    "\n",
    "Obs: lembre de usar o int() para transformar o número inserido pelo usuário no input de string para int.<br>\n",
    "Obs2: Caso o usuário não preencha alguma das 3 informações, o programa deve exibir uma mensagem para avisá-lo de preencher corretamente."
   ]
  },
  {
   "cell_type": "code",
   "execution_count": 1,
   "metadata": {},
   "outputs": [
    {
     "name": "stdout",
     "output_type": "stream",
     "text": [
      "Qual o nome do produto? Dolly\n",
      "Qual a categoria? Bebidas\n",
      "Qual o estoque de hoje? \n",
      "Preencher corretamente\n"
     ]
    }
   ],
   "source": [
    "#seu código aqui\n",
    "#categorias\n",
    "\n",
    "min_alimentos = 50\n",
    "min_bebidas = 75\n",
    "min_limpeza = 30\n",
    "\n",
    "nome_prod = str(input('Qual o nome do produto? '))\n",
    "categoria = str(input('Qual a categoria? '))\n",
    "qtde_estoque_atual = input('Qual o estoque de hoje? ')\n",
    "                \n",
    "if nome_prod and categoria and qtde_estoque_atual :\n",
    "    \n",
    "    qtde_estoque_atual = int(qtde_estoque_atual)\n",
    "    \n",
    "    if 'Alimentos' in categoria and qtde_estoque_atual < min_alimentos:\n",
    "        print(\"Solicitar {} a equipe de compras pois temos apenas: {} unidades, e o minimo deve ser {} unidades.\".format(nome_prod,qtde_estoque_atual, min_alimentos))\n",
    "        \n",
    "    elif 'Bebidas' in categoria and qtde_estoque_atual < min_bebidas:\n",
    "        print(\"Solicitar {} a equipe de compras pois temos apenas: {} unidades, e o minimo deve ser {} unidades\".format(nome_prod,qtde_estoque_atual,min_bebidas))\n",
    "        \n",
    "    elif 'Limpeza' in categoria and qtde_estoque_atual < min_limpeza:\n",
    "        print(\"Solicitar {} a equipe de compras pois temos apenas: {} unidades, e o minimo deve ser {} unidades.\".format(nome_prod,qtde_estoque_atual,min_limpeza))\n",
    "        \n",
    "else:\n",
    "    print('Preencher corretamente')\n",
    "                "
   ]
  }
 ],
 "metadata": {
  "kernelspec": {
   "display_name": "Python 3",
   "language": "python",
   "name": "python3"
  },
  "language_info": {
   "codemirror_mode": {
    "name": "ipython",
    "version": 3
   },
   "file_extension": ".py",
   "mimetype": "text/x-python",
   "name": "python",
   "nbconvert_exporter": "python",
   "pygments_lexer": "ipython3",
   "version": "3.8.8"
  }
 },
 "nbformat": 4,
 "nbformat_minor": 4
}
