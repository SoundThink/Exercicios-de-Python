{
 "cells": [
  {
   "cell_type": "markdown",
   "metadata": {},
   "source": [
    "# Exercícios\n",
    "\n",
    "## 1. Faturamento do Melhor e do Pior Mês do Ano\n",
    "\n",
    "Qual foi o valor de vendas do melhor mês do Ano?\n",
    "E valor do pior mês do ano?"
   ]
  },
  {
   "cell_type": "code",
   "execution_count": 74,
   "metadata": {},
   "outputs": [
    {
     "name": "stdout",
     "output_type": "stream",
     "text": [
      "O maior valor vendido foi de: R$ 49,051 e o pior valor vendido foi, R$ 9,650\n"
     ]
    }
   ],
   "source": [
    "# nova lista anual\n",
    "meses = ['jan', 'fev', 'mar', 'abr', 'mai', 'jun', 'jul', 'ago', 'set', 'out', 'nov', 'dez']\n",
    "vendas_1sem = [25000, 29000, 22200, 17750, 15870, 19900]\n",
    "vendas_2sem = [19850, 20120, 17540, 15555, 49051, 9650]\n",
    "vendas_ano = vendas_1sem + vendas_2sem\n",
    "\n",
    "# melhor valor de vendas\n",
    "melhor_venda = max(vendas_ano)\n",
    "pior_venda = min(vendas_ano)\n",
    "print('O maior valor vendido foi de: R$ {:,} e o pior valor vendido foi, R$ {:,}'.format(melhor_venda,pior_venda))\n",
    "\n",
    "\n",
    "\n"
   ]
  },
  {
   "cell_type": "markdown",
   "metadata": {},
   "source": [
    "## 2. Continuação\n",
    "\n",
    "Agora relacione as duas listas para printar 'O melhor mês do ano foi {} com {} vendas' e o mesmo para o pior mês do ano.\n",
    "\n",
    "Calcule também o faturamento total do Ano e quanto que o melhor mês representou do faturamento total.\n",
    "\n",
    "Obs: Para o faturamento total, pode usar a função sum(lista) que soma todos os itens de uma lista"
   ]
  },
  {
   "cell_type": "code",
   "execution_count": 69,
   "metadata": {},
   "outputs": [
    {
     "name": "stdout",
     "output_type": "stream",
     "text": [
      "O pior mês de vendas foi: DEZ, vendeu: 9,650. O melhor mês de vendas foi: NOV, vendeu: 49,051.\n",
      "Faturamento total foi de R$ 261,486.\n",
      "O melhor mês representou, 18.8% sobre o faturamento total\n"
     ]
    }
   ],
   "source": [
    "# relacionando o melhor mês de vendas\n",
    "i = vendas_ano.index(melhor_venda)\n",
    "melhor_mes = meses[i]\n",
    "melhor_mes = melhor_mes.upper()\n",
    "\n",
    "# relacionando o pior mes de vendas\n",
    "j = vendas_ano.index(pior_venda)\n",
    "pior_mes = meses[j]\n",
    "pior_mes = pior_mes.upper()\n",
    "\n",
    "print('O pior mês de vendas foi: {}, vendeu: {:,}. O melhor mês de vendas foi: {}, vendeu: {:,}.'.format(pior_mes,pior_venda, melhor_mes, melhor_venda))\n",
    "\n",
    "# faturamento\n",
    "fat_total = sum(vendas_ano)\n",
    "print('Faturamento total foi de R$ {:,}.'.format(fat_total))\n",
    "\n",
    "rep_fat_tot = melhor_venda / fat_total\n",
    "print('O melhor mês representou, {:.1%} sobre o faturamento total'.format(rep_fat_tot))\n"
   ]
  },
  {
   "cell_type": "markdown",
   "metadata": {},
   "source": [
    "## 3. Crie uma lista com o top 3 valores de vendas do ano (sem fazer \"no olho\")\n",
    "\n",
    "Dica: o método remove retira um item da lista."
   ]
  },
  {
   "cell_type": "code",
   "execution_count": 76,
   "metadata": {},
   "outputs": [
    {
     "name": "stdout",
     "output_type": "stream",
     "text": [
      "[29000]\n",
      "[25000, 22200, 17750, 15870, 19900, 19850, 20120, 17540, 15555, 9650]\n",
      "[29000, 25000]\n",
      "[22200, 17750, 15870, 19900, 19850, 20120, 17540, 15555, 9650]\n",
      "[29000, 25000, 22200]\n",
      "[17750, 15870, 19900, 19850, 20120, 17540, 15555, 9650]\n"
     ]
    }
   ],
   "source": [
    "top3 = []\n",
    "maior_valor = max(vendas_ano)\n",
    "top3.append(maior_valor)\n",
    "vendas_ano.remove(maior_valor)\n",
    "print(top3)\n",
    "print(vendas_ano)\n",
    "\n",
    "maior_valor = max(vendas_ano)\n",
    "top3.append(maior_valor)\n",
    "vendas_ano.remove(maior_valor)\n",
    "print(top3)\n",
    "print(vendas_ano)\n",
    "\n",
    "maior_valor = max(vendas_ano)\n",
    "top3.append(maior_valor)\n",
    "vendas_ano.remove(maior_valor)\n",
    "print(top3)\n",
    "print(vendas_ano)"
   ]
  }
 ],
 "metadata": {
  "kernelspec": {
   "display_name": "Python 3",
   "language": "python",
   "name": "python3"
  },
  "language_info": {
   "codemirror_mode": {
    "name": "ipython",
    "version": 3
   },
   "file_extension": ".py",
   "mimetype": "text/x-python",
   "name": "python",
   "nbconvert_exporter": "python",
   "pygments_lexer": "ipython3",
   "version": "3.8.8"
  }
 },
 "nbformat": 4,
 "nbformat_minor": 4
}
