{
 "cells": [
  {
   "cell_type": "markdown",
   "id": "4a04a98d",
   "metadata": {},
   "source": [
    "### Meu primeiro programa em Python, bora pra cima."
   ]
  },
  {
   "cell_type": "code",
   "execution_count": 2,
   "id": "be73a56f",
   "metadata": {},
   "outputs": [
    {
     "name": "stdout",
     "output_type": "stream",
     "text": [
      "Deus é fiel\n"
     ]
    }
   ],
   "source": [
    "print('Deus é fiel')"
   ]
  },
  {
   "cell_type": "markdown",
   "id": "cb7d8ea2",
   "metadata": {},
   "source": [
    "### Fazendo Calculos"
   ]
  },
  {
   "cell_type": "code",
   "execution_count": 5,
   "id": "48bedd20",
   "metadata": {},
   "outputs": [
    {
     "name": "stdout",
     "output_type": "stream",
     "text": [
      "11.0\n"
     ]
    }
   ],
   "source": [
    "print(2.2 * 5)"
   ]
  },
  {
   "cell_type": "code",
   "execution_count": 14,
   "id": "a7510c06",
   "metadata": {},
   "outputs": [
    {
     "name": "stdout",
     "output_type": "stream",
     "text": [
      "Imprima o resto da divisão\n",
      "1\n",
      "Outras operações matemáticas\n",
      "6 8 5 -1 0.6666666666666666\n"
     ]
    }
   ],
   "source": [
    "print('Imprima o resto da divisão')\n",
    "print(7%3)\n",
    "print('Outras operações matemáticas')\n",
    "print(2*3, 2**3, 2+3, 2-3, 2/3)"
   ]
  },
  {
   "cell_type": "markdown",
   "id": "3bf756d7",
   "metadata": {},
   "source": [
    "### Concatenando"
   ]
  },
  {
   "cell_type": "code",
   "execution_count": 16,
   "id": "e173e9ee",
   "metadata": {},
   "outputs": [
    {
     "name": "stdout",
     "output_type": "stream",
     "text": [
      "Meu nome é Lucas\n"
     ]
    }
   ],
   "source": [
    "print('Meu nome é'+' Lucas')"
   ]
  },
  {
   "cell_type": "code",
   "execution_count": 1,
   "id": "c1771a8c",
   "metadata": {},
   "outputs": [
    {
     "name": "stdout",
     "output_type": "stream",
     "text": [
      "True\n"
     ]
    }
   ],
   "source": [
    "#Esta contido dentro\n",
    "print('L' in 'Meu nome é Lucas')"
   ]
  },
  {
   "cell_type": "markdown",
   "id": "de19ce7a",
   "metadata": {},
   "source": [
    "### Armazenando uma Variavel coletando dados do usuário"
   ]
  },
  {
   "cell_type": "code",
   "execution_count": 1,
   "id": "1fc5cdad",
   "metadata": {},
   "outputs": [
    {
     "name": "stdout",
     "output_type": "stream",
     "text": [
      "Qual é o seu nome?Lucas\n",
      "Qual é o seu sobrenome?Aguilar\n",
      "Lucas Aguilar\n"
     ]
    }
   ],
   "source": [
    "nome = input('Qual é o seu nome?')\n",
    "sobrenome = input('Qual é o seu sobrenome?')\n",
    "print(nome +' '+ sobrenome)"
   ]
  },
  {
   "cell_type": "code",
   "execution_count": 11,
   "id": "e9ff7611",
   "metadata": {},
   "outputs": [
    {
     "name": "stdout",
     "output_type": "stream",
     "text": [
      "A loja faturou 1000\n"
     ]
    }
   ],
   "source": [
    "# Concatenando uma String com uma Variavel do Tipo Int\n",
    "faturamento = 1000\n",
    "\n",
    "print('A loja faturou ' + str(faturamento))"
   ]
  },
  {
   "cell_type": "markdown",
   "id": "4a208833",
   "metadata": {},
   "source": [
    "### Metodo Format\n",
    "\n",
    "Usamos as chaves e depois declramos .format e dentro a variavel a ser exibida."
   ]
  },
  {
   "cell_type": "code",
   "execution_count": 16,
   "id": "0d038b2c",
   "metadata": {},
   "outputs": [
    {
     "name": "stdout",
     "output_type": "stream",
     "text": [
      "O faturamento da loja foi de 1000\n"
     ]
    }
   ],
   "source": [
    "print('O faturamento da loja foi de {}'.format(faturamento))"
   ]
  },
  {
   "cell_type": "code",
   "execution_count": 18,
   "id": "93ff72ca",
   "metadata": {},
   "outputs": [
    {
     "name": "stdout",
     "output_type": "stream",
     "text": [
      "O faturamento da loja foi de 1000. O Custo da loja foi 200. Assim o lucro da loja foi de: 800. \n"
     ]
    }
   ],
   "source": [
    "# Com mutliplas variaveis ficaria assim:\n",
    "custo = 200\n",
    "lucro = faturamento - custo\n",
    "print('O faturamento da loja foi de {}. O Custo da loja foi {}. Assim o lucro da loja foi de: {}. '.format(faturamento, custo, lucro))"
   ]
  }
 ],
 "metadata": {
  "kernelspec": {
   "display_name": "Python 3",
   "language": "python",
   "name": "python3"
  },
  "language_info": {
   "codemirror_mode": {
    "name": "ipython",
    "version": 3
   },
   "file_extension": ".py",
   "mimetype": "text/x-python",
   "name": "python",
   "nbconvert_exporter": "python",
   "pygments_lexer": "ipython3",
   "version": "3.8.8"
  }
 },
 "nbformat": 4,
 "nbformat_minor": 5
}
